{
 "cells": [
  {
   "cell_type": "markdown",
   "metadata": {},
   "source": [
    "# HWB - task 5 (masking)\n",
    "> Discover the secret key using second-order DPA.\n",
    "You will need trace compression to reduce the amount of measured data\n",
    "Use a suitable preprocessing function to combine trace samples, limit the distance to a few cycles"
   ]
  },
  {
   "cell_type": "code",
   "execution_count": 1,
   "metadata": {},
   "outputs": [],
   "source": [
    "import numpy as np\n",
    "import binascii\n",
    "from scipy.ndimage.interpolation import shift\n",
    "import matplotlib.pyplot as plt"
   ]
  },
  {
   "cell_type": "code",
   "execution_count": 2,
   "metadata": {},
   "outputs": [],
   "source": [
    "TRACES_CNT = 2000\n",
    "TRACE_LENGTH = int(open(\"traceLength.txt\").read().split()[0])"
   ]
  },
  {
   "cell_type": "code",
   "execution_count": 3,
   "metadata": {},
   "outputs": [],
   "source": [
    "sbox = (\n",
    "    0x63, 0x7c, 0x77, 0x7b, 0xf2, 0x6b, 0x6f, 0xc5, 0x30, 0x01, 0x67,\n",
    "    0x2b, 0xfe, 0xd7, 0xab, 0x76, 0xca, 0x82, 0xc9, 0x7d, 0xfa, 0x59,\n",
    "    0x47, 0xf0, 0xad, 0xd4, 0xa2, 0xaf, 0x9c, 0xa4, 0x72, 0xc0, 0xb7,\n",
    "    0xfd, 0x93, 0x26, 0x36, 0x3f, 0xf7, 0xcc, 0x34, 0xa5, 0xe5, 0xf1,\n",
    "    0x71, 0xd8, 0x31, 0x15, 0x04, 0xc7, 0x23, 0xc3, 0x18, 0x96, 0x05,\n",
    "    0x9a, 0x07, 0x12, 0x80, 0xe2, 0xeb, 0x27, 0xb2, 0x75, 0x09, 0x83,\n",
    "    0x2c, 0x1a, 0x1b, 0x6e, 0x5a, 0xa0, 0x52, 0x3b, 0xd6, 0xb3, 0x29,\n",
    "    0xe3, 0x2f, 0x84, 0x53, 0xd1, 0x00, 0xed, 0x20, 0xfc, 0xb1, 0x5b,\n",
    "    0x6a, 0xcb, 0xbe, 0x39, 0x4a, 0x4c, 0x58, 0xcf, 0xd0, 0xef, 0xaa,\n",
    "    0xfb, 0x43, 0x4d, 0x33, 0x85, 0x45, 0xf9, 0x02, 0x7f, 0x50, 0x3c,\n",
    "    0x9f, 0xa8, 0x51, 0xa3, 0x40, 0x8f, 0x92, 0x9d, 0x38, 0xf5, 0xbc,\n",
    "    0xb6, 0xda, 0x21, 0x10, 0xff, 0xf3, 0xd2, 0xcd, 0x0c, 0x13, 0xec,\n",
    "    0x5f, 0x97, 0x44, 0x17, 0xc4, 0xa7, 0x7e, 0x3d, 0x64, 0x5d, 0x19,\n",
    "    0x73, 0x60, 0x81, 0x4f, 0xdc, 0x22, 0x2a, 0x90, 0x88, 0x46, 0xee,\n",
    "    0xb8, 0x14, 0xde, 0x5e, 0x0b, 0xdb, 0xe0, 0x32, 0x3a, 0x0a, 0x49,\n",
    "    0x06, 0x24, 0x5c, 0xc2, 0xd3, 0xac, 0x62, 0x91, 0x95, 0xe4, 0x79,\n",
    "    0xe7, 0xc8, 0x37, 0x6d, 0x8d, 0xd5, 0x4e, 0xa9, 0x6c, 0x56, 0xf4,\n",
    "    0xea, 0x65, 0x7a, 0xae, 0x08, 0xba, 0x78, 0x25, 0x2e, 0x1c, 0xa6,\n",
    "    0xb4, 0xc6, 0xe8, 0xdd, 0x74, 0x1f, 0x4b, 0xbd, 0x8b, 0x8a, 0x70,\n",
    "    0x3e, 0xb5, 0x66, 0x48, 0x03, 0xf6, 0x0e, 0x61, 0x35, 0x57, 0xb9,\n",
    "    0x86, 0xc1, 0x1d, 0x9e, 0xe1, 0xf8, 0x98, 0x11, 0x69, 0xd9, 0x8e,\n",
    "    0x94, 0x9b, 0x1e, 0x87, 0xe9, 0xce, 0x55, 0x28, 0xdf, 0x8c, 0xa1,\n",
    "    0x89, 0x0d, 0xbf, 0xe6, 0x42, 0x68, 0x41, 0x99, 0x2d, 0x0f, 0xb0,\n",
    "    0x54, 0xbb, 0x16\n",
    ")"
   ]
  },
  {
   "cell_type": "markdown",
   "metadata": {},
   "source": [
    "Oproti předchozím úkolům bylo změneno vytváření matice hypotetických hodnot. Těsně před výpočtem hammingovy váhy zXORujeme matici před SBOXem s maticí po SBOXu.\n",
    "\n",
    "`sbox[dmat[row][col]] ^ dmat[row][col]`"
   ]
  },
  {
   "cell_type": "code",
   "execution_count": 4,
   "metadata": {},
   "outputs": [],
   "source": [
    "def create_hypotheses_matrix(plaintext, l):\n",
    "    # generate key hypotheses\n",
    "    dmat = np.array([[x for x in range(256)] for y in range(TRACES_CNT)], dtype=np.uint32)\n",
    "    for i in range(TRACES_CNT):\n",
    "        # xor row with first byte of plaintext\n",
    "        dmat[i, :] = dmat[i, :] ^ plaintext[i, l]\n",
    "    \n",
    "    for row in range(TRACES_CNT):   \n",
    "        for col in range(256): \n",
    "            # compute hamming weights\n",
    "            dmat[row][col] = hamming_weight(sbox[dmat[row][col]] ^ dmat[row][col])\n",
    "    return dmat"
   ]
  },
  {
   "cell_type": "markdown",
   "metadata": {},
   "source": [
    "Následující kód se ničím neliší oproti útoku na normální kartičku s triggerem."
   ]
  },
  {
   "cell_type": "code",
   "execution_count": 5,
   "metadata": {},
   "outputs": [],
   "source": [
    "def load_traces():\n",
    "    # load and slice traces    \n",
    "    traces = np.zeros((TRACES_CNT, TRACE_LENGTH), dtype=np.uint32)\n",
    "    with open(\"traces.bin\", \"rb\") as file:\n",
    "        for i in range(0, TRACES_CNT):\n",
    "            traces[i] = np.fromfile(file, np.uint8, TRACE_LENGTH)\n",
    "    return traces[:, 10255:572755]\n",
    "\n",
    "\n",
    "def load_plaintext():\n",
    "    plaintxt = np.zeros((TRACES_CNT, 16), dtype=np.uint32)\n",
    "    with open(\"plaintext.txt\", \"r\") as f:\n",
    "        for i, line in enumerate(f):\n",
    "            line = list(binascii.unhexlify(line.strip().replace(\" \", \"\")))\n",
    "            plaintxt[i, :] = np.array(line, dtype=np.uint32)\n",
    "    return plaintxt\n",
    "\n",
    "\n",
    "def hamming_weight(x):\n",
    "    c = 0\n",
    "    while x:\n",
    "        x &= x - 1\n",
    "        c += 1\n",
    "    return c\n",
    "\n",
    "\n",
    "def corr2_coeff(A,B):\n",
    "    # source: https://stackoverflow.com/a/30143754\n",
    "    # pearson correlation coeficient\n",
    "    # Rowwise mean of input arrays & subtract from input arrays themeselves\n",
    "    A_mA = A - A.mean(1)[:,None]\n",
    "    B_mB = B - B.mean(1)[:,None]\n",
    "    \n",
    "    # Sum of squares across rows\n",
    "    ssA = (A_mA**2).sum(1)\n",
    "    ssB = (B_mB**2).sum(1)\n",
    "\n",
    "    # Finally get corr coeff\n",
    "    return np.dot(A_mA,B_mB.T)/np.sqrt(np.dot(ssA[:,None],ssB[None]))\n",
    "\n",
    "\n",
    "def create_correlation_matrix(x, y):\n",
    "    # computes correlations between two matrices    \n",
    "    corr = corr2_coeff(x, y)  # correlation matrix\n",
    "    corr = np.nan_to_num(corr)\n",
    "    acorr = np.absolute(corr)  # absolute value\n",
    "    maxcorr = np.max(acorr)\n",
    "    print(f\"Max correlation: {maxcorr}\")\n",
    "    index = np.where(acorr == maxcorr)\n",
    "    return int(index[0])"
   ]
  },
  {
   "cell_type": "markdown",
   "metadata": {},
   "source": [
    "## Maskování\n",
    "\n"
   ]
  },
  {
   "cell_type": "markdown",
   "metadata": {},
   "source": [
    "### Trigger\n",
    "\n",
    "Nejdříve manuálně najdeme začátek šifrování. Kde je zhruba začátek lze vidět na následujícím grafu, po bližším prozkoumání jsme začátek určili - 10255."
   ]
  },
  {
   "cell_type": "code",
   "execution_count": 6,
   "metadata": {},
   "outputs": [
    {
     "data": {
      "image/png": "[encoded data removed]",
      "text/plain": [
       "<Figure size 432x288 with 1 Axes>"
      ]
     },
     "metadata": {
      "needs_background": "light"
     },
     "output_type": "display_data"
    }
   ],
   "source": [
    "tr = np.zeros((TRACES_CNT, TRACE_LENGTH), dtype=np.uint32)\n",
    "with open(\"traces.bin\", \"rb\") as file:\n",
    "    for i in range(0, TRACES_CNT):\n",
    "        tr[i] = np.fromfile(file, np.uint8, TRACE_LENGTH)\n",
    "\n",
    "plt.plot(tr[0][0:12000])\n",
    "plt.show()"
   ]
  },
  {
   "cell_type": "markdown",
   "metadata": {},
   "source": [
    "### Komprese\n",
    "\n",
    "Zkomprimujeme každých 5 bodů do jednoho sečtením."
   ]
  },
  {
   "cell_type": "code",
   "execution_count": 7,
   "metadata": {},
   "outputs": [],
   "source": [
    "def compress(trace, n):\n",
    "    n = 5\n",
    "    dmat = np.zeros(len(trace) // n, dtype=np.uint32)\n",
    "    for i in range(len(dmat)):\n",
    "        dmat[i] = trace[n * i] + trace[n * i + 1] + trace[n * i + 2] + trace[n * i + 3] + trace[n * i + 4]\n",
    "    return dmat"
   ]
  },
  {
   "cell_type": "markdown",
   "metadata": {},
   "source": [
    "### Kombinace\n",
    "\n",
    "Funkce `combine()` nakombinuje každý bod s 50 dalšími, tzn. s 10 dalšími cykly. Z toho jsme vzali pouze cykly 21720 až 21980 a to korelovali s hypotetickou maticí spotřeby, což byla Hammingova váha xoru hodnot před sboxem a po sboxu."
   ]
  },
  {
   "cell_type": "code",
   "execution_count": 8,
   "metadata": {},
   "outputs": [],
   "source": [
    "def combine(trace, start, stop, cnt):\n",
    "    dmat = np.zeros((stop - start + 1) * cnt)\n",
    "    for i in range(stop - start):\n",
    "        for j in range(1, cnt + 1):\n",
    "            dmat[i * cnt + j - 1] = int(abs(hamming_weight(trace[start + i]) - hamming_weight(trace[start + i + j])))\n",
    "    return dmat"
   ]
  },
  {
   "cell_type": "markdown",
   "metadata": {},
   "source": [
    "## MAIN"
   ]
  },
  {
   "cell_type": "code",
   "execution_count": 9,
   "metadata": {},
   "outputs": [
    {
     "name": "stdout",
     "output_type": "stream",
     "text": [
      "Progress............100.........200.........300.........400.........500.........600.........700.........800.........900.........1000.........1100.........1200.........1300.........1400.........1500.........1600.........1700.........1800.........1900.........2000"
     ]
    }
   ],
   "source": [
    "# nacteni plaintextu a trace\n",
    "plaintext = load_plaintext()\n",
    "traces = load_traces()\n",
    "\n",
    "i = 0\n",
    "\n",
    "combined = []\n",
    "print(\"Progress...\", end=\"\", flush=True)\n",
    "for trace in traces:\n",
    "    i += 1\n",
    "    if i % 100 == 0:\n",
    "        print(f\"{i}\", end=\"\", flush=True)\n",
    "    elif i % 10 == 0:\n",
    "        print(\".\", end=\"\", flush=True)\n",
    "    trace = compress(trace, 5)\n",
    "    trace = combine(trace, 21720 * 5, 21980 * 5, 50)\n",
    "    combined.append(trace)\n",
    "    \n",
    "combined = np.transpose(np.array(combined))\n",
    "combined = combined.astype('int32') "
   ]
  },
  {
   "cell_type": "code",
   "execution_count": 10,
   "metadata": {},
   "outputs": [
    {
     "name": "stdout",
     "output_type": "stream",
     "text": [
      "Byte: 0, Max correlation: 0.12495332176801305\n",
      "Byte: 1, Max correlation: 0.11866470639242616\n",
      "Byte: 2, Max correlation: 0.12215801516189119\n",
      "Byte: 3, Max correlation: 0.11652930573306193\n",
      "Byte: 4, Max correlation: 0.12619491442206995\n",
      "Byte: 5, Max correlation: 0.11934222850676973\n",
      "Byte: 6, Max correlation: 0.12139203898858536\n",
      "Byte: 7, Max correlation: 0.12146733171838875\n",
      "Byte: 8, Max correlation: 0.12261291348136291\n",
      "Byte: 9, Max correlation: 0.12455204747720482\n",
      "Byte: 10, Max correlation: 0.1138277596983755\n",
      "Byte: 11, Max correlation: 0.11738280428301766\n",
      "Byte: 12, Max correlation: 0.1190708279389365\n",
      "Byte: 13, Max correlation: 0.12156188931450584\n",
      "Byte: 14, Max correlation: 0.11872986088246101\n",
      "Byte: 15, Max correlation: 0.12239483611613536\n",
      "KEY: 0b 7d dd 55 b5 d2 5a cf 2e 4a cc c0 6a fd fe bb \n"
     ]
    }
   ],
   "source": [
    "np.seterr(divide='ignore', invalid='ignore')\n",
    "\n",
    "key = []\n",
    "for i in range(16):\n",
    "    print(f\"Byte: {i}, \", end=\"\")\n",
    "    hypot_matrix = create_hypotheses_matrix(plaintext, i)\n",
    "    hypot_matrix = np.transpose(np.array(hypot_matrix))\n",
    "    index = create_correlation_matrix(hypot_matrix, combined)\n",
    "    key.append(index)\n",
    "\n",
    "print(\"KEY: \", end=\"\")\n",
    "for k in key:\n",
    "    print(f\"{k:02x} \", end=\"\")\n",
    "\n",
    "print()"
   ]
  },
  {
   "cell_type": "code",
   "execution_count": null,
   "metadata": {},
   "outputs": [],
   "source": []
  }
 ],
 "metadata": {
  "kernelspec": {
   "display_name": "Python 3",
   "language": "python",
   "name": "python3"
  },
  "language_info": {
   "codemirror_mode": {
    "name": "ipython",
    "version": 3
   },
   "file_extension": ".py",
   "mimetype": "text/x-python",
   "name": "python",
   "nbconvert_exporter": "python",
   "pygments_lexer": "ipython3",
   "version": "3.6.7"
  }
 },
 "nbformat": 4,
 "nbformat_minor": 2
}
